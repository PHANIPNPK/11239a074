{
  "nbformat": 4,
  "nbformat_minor": 0,
  "metadata": {
    "colab": {
      "provenance": [],
      "authorship_tag": "ABX9TyNJcGLBew87G+wBPun4GeOl",
      "include_colab_link": true
    },
    "kernelspec": {
      "name": "python3",
      "display_name": "Python 3"
    },
    "language_info": {
      "name": "python"
    }
  },
  "cells": [
    {
      "cell_type": "markdown",
      "metadata": {
        "id": "view-in-github",
        "colab_type": "text"
      },
      "source": [
        "<a href=\"https://colab.research.google.com/github/PHANIPNPK/11239a074/blob/main/11239a074_exp6b.ipynb\" target=\"_parent\"><img src=\"https://colab.research.google.com/assets/colab-badge.svg\" alt=\"Open In Colab\"/></a>"
      ]
    },
    {
      "cell_type": "code",
      "execution_count": 5,
      "metadata": {
        "id": "VwEyozMvBvGR"
      },
      "outputs": [],
      "source": [
        "class disjointSet:\n",
        "    def __init__(self, n): # Added the __init__ method with n as argument\n",
        "        self.parent = list(range(n))\n",
        "        self.rank = [0] * n\n",
        "\n",
        "    def find(self, i):\n",
        "        if self.parent[i] == i:\n",
        "            return i\n",
        "        self.parent[i] = self.find(self.parent[i])\n",
        "        return self.parent[i]\n",
        "\n",
        "    def union(self, i, j):\n",
        "        root_i = self.find(i)\n",
        "        root_j = self.find(j)\n",
        "        if root_i != root_j:\n",
        "            if self.rank[root_i] < self.rank[root_j]:\n",
        "                self.parent[root_i] = root_j\n",
        "            elif self.rank[root_i] > self.rank[root_j]:\n",
        "                self.parent[root_j] = root_i\n",
        "            else:\n",
        "                self.parent[root_j] = root_i\n",
        "                self.rank[root_i] += 1\n",
        "\n",
        "def kruskal_algorithm(graph, num_vertices):\n",
        "    edges = []\n",
        "    for u in graph:\n",
        "        for v, weight in graph[u]:\n",
        "            edges.append((weight, u, v))\n",
        "    edges.sort()\n",
        "    ds = disjointSet(num_vertices) # Calling disjointSet with num_vertices as argument\n",
        "    mst = []\n",
        "    total_weight = 0\n",
        "    for weight, u, v in edges:\n",
        "        if ds.find(u) != ds.find(v):\n",
        "            ds.union(u, v)\n",
        "            mst.append((u, v, weight))\n",
        "            total_weight += weight\n",
        "    return mst, total_weight\n"
      ]
    }
  ]
}